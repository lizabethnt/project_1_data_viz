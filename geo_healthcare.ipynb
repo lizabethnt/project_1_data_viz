{
 "cells": [
  {
   "cell_type": "code",
   "execution_count": 1,
   "metadata": {},
   "outputs": [],
   "source": [
    "# Dependencies\n",
    "import pandas as pd\n",
    "import numpy as np\n",
    "import requests\n",
    "import json\n",
    "\n",
    "# Other imports\n",
    "from api_key import geoapify_key"
   ]
  },
  {
   "cell_type": "code",
   "execution_count": 40,
   "metadata": {},
   "outputs": [],
   "source": [
    "# Set the geographical coordinates for Denver, CO\n",
    "latitude = 39.742043\n",
    "longitude = -104.991531\n",
    "\n",
    "# Set the search parameters to capture desired zipcodes\n",
    "radius = 30000\n",
    "limit = 500\n",
    "offset = 500\n",
    "filters = f\"circle:{longitude},{latitude},{radius}\"\n",
    "\n",
    "# set up a parameters dictionary\n",
    "params = {\n",
    "    \"categories\": \"healthcare\",\n",
    "    \"filter\":filters,\n",
    "    \"offset\":offset,\n",
    "    \"limit\": limit,\n",
    "    \"apiKey\":geoapify_key\n",
    "}\n",
    "\n",
    "# Set base URL\n",
    "base_url = \"https://api.geoapify.com/v2/places\""
   ]
  },
  {
   "cell_type": "code",
   "execution_count": 41,
   "metadata": {},
   "outputs": [
    {
     "name": "stdout",
     "output_type": "stream",
     "text": [
      "Retrieving data...\n",
      "0\n"
     ]
    }
   ],
   "source": [
    "print(\"Retrieving data...\")\n",
    "response = requests.get(base_url, params=params).json()\n",
    "#print(json.dumps(response, indent=4, sort_keys=True))\n",
    "print(len(response['features']))"
   ]
  },
  {
   "cell_type": "code",
   "execution_count": 27,
   "metadata": {},
   "outputs": [
    {
     "name": "stdout",
     "output_type": "stream",
     "text": [
      "440\n"
     ]
    }
   ],
   "source": [
    "print(len(response['features']))"
   ]
  },
  {
   "cell_type": "code",
   "execution_count": 3,
   "metadata": {},
   "outputs": [
    {
     "name": "stdout",
     "output_type": "stream",
     "text": [
      "Retrieving data...\n"
     ]
    }
   ],
   "source": [
    "# Empty list for data\n",
    "health_facilities = []\n",
    "\n",
    "# Retrieve the data with API request\n",
    "print(\"Retrieving data...\")\n",
    "response = requests.get(base_url, params=params).json()\n",
    "\n",
    "\n",
    "for feature in response[\"features\"]:\n",
    "    # Parse out facility name, categories, zipcode, lat, lng:\n",
    "    fac_name = feature[\"properties\"][\"address_line1\"]\n",
    "    #fac_type = feature[\"properties\"][\"categories\"]\n",
    "    fac_zip = feature[\"properties\"][\"postcode\"]\n",
    "    fac_lat = feature[\"properties\"][\"lat\"]\n",
    "    fac_lng = feature[\"properties\"][\"lon\"]\n",
    "\n",
    "    # Append the data into health_facilities list\n",
    "    health_facilities.append({\"Facility Name\": fac_name,\n",
    "                              #\"Categories\": fac_type,\n",
    "                              \"Zipcode\": fac_zip,\n",
    "                              \"Lat\": fac_lat,\n",
    "                              \"Lng\": fac_lng})"
   ]
  },
  {
   "cell_type": "code",
   "execution_count": 4,
   "metadata": {},
   "outputs": [
    {
     "data": {
      "text/plain": [
       "Series([], dtype: int64)"
      ]
     },
     "execution_count": 4,
     "metadata": {},
     "output_type": "execute_result"
    }
   ],
   "source": [
    "health_facilities_df = pd.DataFrame(health_facilities)\n",
    "\n",
    "health_facilities_df.count()"
   ]
  },
  {
   "cell_type": "code",
   "execution_count": 5,
   "metadata": {},
   "outputs": [],
   "source": [
    "# get location and count of facilities"
   ]
  }
 ],
 "metadata": {
  "kernelspec": {
   "display_name": "Python 3",
   "language": "python",
   "name": "python3"
  },
  "language_info": {
   "codemirror_mode": {
    "name": "ipython",
    "version": 3
   },
   "file_extension": ".py",
   "mimetype": "text/x-python",
   "name": "python",
   "nbconvert_exporter": "python",
   "pygments_lexer": "ipython3",
   "version": "3.11.7"
  }
 },
 "nbformat": 4,
 "nbformat_minor": 2
}
