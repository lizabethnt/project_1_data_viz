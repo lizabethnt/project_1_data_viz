{
 "cells": [
  {
   "cell_type": "code",
   "execution_count": null,
   "metadata": {},
   "outputs": [],
   "source": [
    "#import libraries, dependencies\n",
    "\n",
    "#Using a CSV file with all zip codes in Denver from:\n",
    "#https://www.downloadexcelfiles.com/us_en/download-list-us-zip-codes-colorado-state#gsc.tab=0\n",
    "#selected only zip codes in Denver City using excel\n",
    "\n",
    "#TODO: import CSV and create a data frame\n",
    "\n",
    "#TODO: select parameters for request to geoapify, which will find all healthcare facilities in each zip code\n",
    "\n",
    "#TODO: Use a for loop to make an api request for each zip code, and place the healthcare facility results into a DF\n",
    "\n",
    "#TODO: Draw a map which locates each healthcare facility (dot size population of the zip code? color by type of facility?)\n",
    " \n",
    "#TODO: plot #of healthcare facilities per zip code against population per zip code (double bars with zip as x axis?)\n",
    "\n",
    "#TODO: decide on at least four more visualizations to create\n",
    "\n",
    "#TODO: written analysis\n",
    "\n",
    "#TODO: prepare slides for presentation\n",
    "\n",
    "#TODO: practice presentation(or at least be clear on respective roles)"
   ]
  }
 ],
 "metadata": {
  "language_info": {
   "name": "python"
  }
 },
 "nbformat": 4,
 "nbformat_minor": 2
}
