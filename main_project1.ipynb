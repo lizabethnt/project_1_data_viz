{
 "cells": [
  {
   "cell_type": "code",
   "execution_count": null,
   "metadata": {},
   "outputs": [],
   "source": [
    "#import libraries, dependencies\n",
    "import pandas as pd\n",
    "import numpy as np\n",
    "import requests\n",
    "import json\n",
    "from config import api_key\n",
    "\n",
    "#Import CSV and create a data frame\n",
    "#Using a CSV file with all zip codes in Denver from:\n",
    "#https://www.downloadexcelfiles.com/us_en/download-list-us-zip-codes-colorado-state#gsc.tab=0\n",
    "#we selected only zip codes in Denver City using excel and saved  as denver_zipcodes.csv\n",
    "file = 'resources/denver_zipcodes.csv'\n",
    "denver = file_one_df = pd.read_csv(file)\n",
    "denver_df = pd.DataFrame(denver)\n",
    "#adding columns for Population, Per Capita Income, Median Age\n",
    "denver_df = denver_df.assign(Population = \"\")\n",
    "denver_df = denver_df.assign(Income = \"\")\n",
    "denver_df.rename(columns= {'Income': 'Per Capita Income'}, inplace=True)\n",
    "denver_df =denver_df.assign(Age = \"\")\n",
    "denver_df.rename(columns= {'Age': 'Median Age'}, inplace=True)\n",
    "\n",
    "#TODO: select parameters for request to geoapify, which will find all healthcare facilities in each zip code(Kelsy)\n",
    "\n",
    "#TODO: Use a for loop to make an api request for a radius around Denver, and place the healthcare facility results into a DF(Kelsy).\n",
    "#include each facility's name, zip code, subcategory(type), and wheelchair access status\n",
    "\n",
    "#Get population, median age, per capita income, of each zip code and add to data frame with healthcare facility info (Lisa)\n",
    "#from https://data.colorado.gov/ (Lisa)\n",
    "zip_codes = denver_df['Zip Code'].values.tolist()\n",
    "zip_codes \n",
    "\n",
    "url_pop = 'https://data.colorado.gov/resource/ucnv-vw74.json?'\n",
    "for index, row in denver_df.iterrows():\n",
    "    #create the parameters, full url for the API call\n",
    "    params_pop = {'zip_code': denver_df.loc[index, \"Zip Code\"],\n",
    "              }\n",
    "    response_pop = requests.get(url_pop, params=params_pop)\n",
    "    response_pop = response_pop.json()\n",
    "\n",
    "    # Store the zip's population, per capita income and median age in the denver_df DataFrame\n",
    "    try:\n",
    "        denver_df.loc[index, \"Population\"] = response_pop[0][\"pop\"]\n",
    "        \n",
    "    except (KeyError, IndexError):\n",
    "        denver_df.loc[index, \"Population\"] = np.nan\n",
    "    try:\n",
    "        denver_df.loc[index, \"Per Capita Income\"] = response_pop[0]['per_cap_in']\n",
    "    except (KeyError, IndexError):\n",
    "        denver_df.loc[index, \"Per Capita Income\"] = np.nan\n",
    "    try: \n",
    "        denver_df.loc[index, 'Median Age'] = response_pop[0]['med_age']\n",
    "    except (KeyError, IndexError):\n",
    "        denver_df.loc[index, \"Median Age\"] = np.nan\n",
    "denver_df.dropna()\n",
    "\n",
    "#Question 1: are healthcare facilities more dense where the population is dense? In other words: \n",
    "#Is there a correlation between pop of zip code and  number of facilities in the zip code?\n",
    "#TODO: plot #of healthcare facilities per zip code against population per zip code (double bars with zip as x axis)\n",
    "#TODO: scatter plot and linear regression of facility count vs population\n",
    "\n",
    "#Question 2: Is there a correlation of per capita income with # of healthcare facilities by zip code in Denver?\n",
    "#TODO: plot #of healthcare facilities per zip code against per cap income\n",
    "#TODO: scatter plot and lin reg of  zip code against per cap income \n",
    "\n",
    "#Question 3: Is there a correlation of median age with # of healthcare facilities by zip code in Denver?\n",
    "#TODO: plot #of healthcare facilities per zip code against median age\n",
    "#TODO: scatter plot and lin reg of  zip code against median age\n",
    "\n",
    "#Quesion 4: What percentage of facilities are wheelchair accessible and what percentage by subcategory?\n",
    "#TODO: count # and find % of facilities with wheelchair access\n",
    "#TODO: If not very close to 100%, plot types of facility against wheelchair access(bar)\n",
    "#TODO: map with color of facility dot by wheelchair access\n",
    "\n",
    "#TODO: written analysis\n",
    "\n",
    "#TODO: prepare slides for presentation\n",
    "\n",
    "#TODO: practice presentation(or at least be clear on respective roles)\n"
   ]
  },
  {
   "cell_type": "code",
   "execution_count": 74,
   "metadata": {},
   "outputs": [
    {
     "data": {
      "text/plain": [
       "{'statusCode': 401, 'error': 'Unauthorized', 'message': 'Invalid apiKey'}"
      ]
     },
     "execution_count": 74,
     "metadata": {},
     "output_type": "execute_result"
    }
   ],
   "source": [
    "#example call to geoapify(delete this cell when looped calls are complete)\n",
    "url = 'https://api.geoapify.com/v2/places'\n",
    "latitude = -33.8698439\n",
    "longitude = 151.2082848\n",
    "radius = 5000\n",
    "filters = f'circle: {longitude}, {latitude}', {radius}\n",
    "bias = f\"proximity:{longitude},{latitude}\"\n",
    "limit = 5\n",
    "parameters = {\n",
    "    'categories': \"healthcare\",\n",
    "    \"limit\": limit,\n",
    "    \"filters\":filters,\n",
    "    \"bias\": bias,\n",
    "    \"apiKey\":api_key}\n",
    "\n",
    "results = requests.get(url , params=parameters)    \n",
    "results.json()       \n"
   ]
  },
  {
   "cell_type": "code",
   "execution_count": 75,
   "metadata": {},
   "outputs": [
    {
     "name": "stdout",
     "output_type": "stream",
     "text": [
      "https://api.geoapify.com/v2/places?categories=healthcare&limit=5&filters=circle%3A+151.2082848%2C+-33.8698439&filters=5000&bias=proximity%3A151.2082848%2C-33.8698439&apiKey=your+key+here\n"
     ]
    }
   ],
   "source": [
    "print(results.url)"
   ]
  },
  {
   "cell_type": "code",
   "execution_count": null,
   "metadata": {},
   "outputs": [],
   "source": []
  },
  {
   "cell_type": "code",
   "execution_count": null,
   "metadata": {},
   "outputs": [],
   "source": []
  }
 ],
 "metadata": {
  "kernelspec": {
   "display_name": "dev",
   "language": "python",
   "name": "python3"
  },
  "language_info": {
   "codemirror_mode": {
    "name": "ipython",
    "version": 3
   },
   "file_extension": ".py",
   "mimetype": "text/x-python",
   "name": "python",
   "nbconvert_exporter": "python",
   "pygments_lexer": "ipython3",
   "version": "3.10.13"
  }
 },
 "nbformat": 4,
 "nbformat_minor": 2
}
