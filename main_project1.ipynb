{
 "cells": [
  {
   "cell_type": "code",
   "execution_count": null,
   "metadata": {},
   "outputs": [],
   "source": [
    "#import libraries, dependencies\n",
    "\n",
    "#Using a CSV file with all zip codes in Denver from:\n",
    "#https://www.downloadexcelfiles.com/us_en/download-list-us-zip-codes-colorado-state#gsc.tab=0\n",
    "#selected only zip codes in Denver City using excel\n",
    "\n",
    "#TODO: import CSV and create a data frame\n",
    "\n",
    "#TODO: select parameters for request to geoapify, which will find all healthcare facilities in each zip code\n",
    "\n",
    "#TODO: Use a for loop to make a request for each zip code, and place the healthcare facility result into a DF\n",
    "\n",
    "#TODO: Draw a map which locates each healthcare facility \n",
    " \n",
    "#TODO: plot #of healthcare facilities per zip code against population"
   ]
  }
 ],
 "metadata": {
  "language_info": {
   "name": "python"
  }
 },
 "nbformat": 4,
 "nbformat_minor": 2
}
