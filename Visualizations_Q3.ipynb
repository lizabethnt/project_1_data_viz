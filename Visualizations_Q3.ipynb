{
 "cells": [
  {
   "cell_type": "code",
   "execution_count": null,
   "metadata": {},
   "outputs": [],
   "source": [
    "# Import libraries, dependencies\n",
    "import pandas as pd\n",
    "import numpy as np\n",
    "from scipy.stats import linregress\n",
    "import matplotlib.pyplot as plt"
   ]
  },
  {
   "cell_type": "code",
   "execution_count": null,
   "metadata": {},
   "outputs": [],
   "source": [
    "# Kelsy\n",
    "# Question 3: Is there a correlation of median age with # of healthcare facilities by zip code in Denver?\n",
    "denver_df = pd.read_csv(\"resources/combined_data.csv\")\n",
    "\n",
    "# TODO: Some kind of plot (double bar, map?, line?) #of healthcare facilities per zip code against median age\n",
    "age_and_facility_df = denver_df[[\"Number of Facilities\", \"Median Age\"]]\n",
    "age_facility_plot = age_and_facility_df.plot(kind=\"bar\", figsize=(15.5,6))\n",
    "age_facility_plot.set_xticklabels(denver_df[\"Zip Code\"])\n",
    "plt.title(\"Number of Facilities, Median Age by Zip Code\")\n",
    "plt.xlabel(\"Zip Code\")\n",
    "plt.ylabel(\"Number of Facilities or Median Age\")\n",
    "plt.tight_layout()\n",
    "\n",
    "# Save the figure\n",
    "plt.savefig(\"output_data/med_age_and_facilities_multi_bar.png\")\n",
    "# Show bar chart\n",
    "plt.show()"
   ]
  },
  {
   "cell_type": "code",
   "execution_count": null,
   "metadata": {},
   "outputs": [],
   "source": [
    "# TODO: scatter plot and lin reg of number of faciliies against median age\n",
    "x = denver_df[\"Median Age\"]\n",
    "y = denver_df[\"Number of Facilities\"]\n",
    "(slope, intercept, rvalue, pvalue, stderror) = linregress(x, y)\n",
    "lr_values = x * slope + intercept\n",
    "line_eq = f\"y = {round(slope,2)}x + {round(intercept,2)}\"\n",
    "plt.scatter(x,y, facecolors=\"green\", edgecolors=\"black\", alpha=0.75)\n",
    "plt.plot(x,lr_values,\"r-\")\n",
    "plt.annotate(line_eq,(38, 30),fontsize=15,color=\"red\")\n",
    "plt.title(\"Median Age vs Number of Facilities by Denver Zip Code\")\n",
    "plt.xlabel(\"Median Age\")\n",
    "plt.ylabel(\"Number of Facilities\")\n",
    "\n",
    "print(f\"The coefficient of determination is {rvalue**2}\")\n",
    "\n",
    "# Save the figure\n",
    "plt.savefig(\"output_data/med_age_and_facilities_scatter.png\")\n",
    "# Show scatter plot\n",
    "plt.show()"
   ]
  }
 ],
 "metadata": {
  "kernelspec": {
   "display_name": "Python 3",
   "language": "python",
   "name": "python3"
  },
  "language_info": {
   "name": "python",
   "version": "3.11.7"
  }
 },
 "nbformat": 4,
 "nbformat_minor": 2
}
