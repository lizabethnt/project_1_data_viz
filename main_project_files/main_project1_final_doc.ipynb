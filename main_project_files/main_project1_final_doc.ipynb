{
 "cells": [
  {
   "cell_type": "code",
   "execution_count": null,
   "metadata": {},
   "outputs": [],
   "source": [
    "# Import libraries, dependencies\n",
    "import pandas as pd\n",
    "import numpy as np\n",
    "from scipy.stats import linregress\n",
    "import matplotlib.pyplot as plt\n",
    "import hvplot.pandas\n",
    "import requests\n",
    "import json\n",
    "\n",
    "# Other imports\n",
    "from config import geoapify_key"
   ]
  },
  {
   "cell_type": "code",
   "execution_count": null,
   "metadata": {},
   "outputs": [],
   "source": [
    "#Place the healthcare facility results into a DF(Kelsy). \n",
    "#Save the df as a csv file. \n",
    "#This work is in the den_healthcare_1 and den_healthcare_2 files."
   ]
  },
  {
   "cell_type": "code",
   "execution_count": null,
   "metadata": {},
   "outputs": [],
   "source": [
    "# Import our healthcare data into pandas from CSV \n",
    "file_path = 'Resources/denver_healthcare_data.csv'\n",
    "denver_h_df = pd.read_csv(file_path, low_memory=False)"
   ]
  },
  {
   "cell_type": "code",
   "execution_count": null,
   "metadata": {},
   "outputs": [],
   "source": [
    "#Create a clean df of only zip codes and number of facilities as integers (Lisa)\n",
    "h_counts = denver_h_df['Zipcode'].value_counts()\n",
    "h_counts = h_counts.reset_index()\n",
    "h_counts = pd.DataFrame(h_counts)\n",
    "h_counts = h_counts.rename(columns={'Zipcode':'Zip Code', 'count':'Number of Facilities'})\n",
    "h_counts['Zip Code'] = h_counts['Zip Code'].astype('int64')"
   ]
  },
  {
   "cell_type": "code",
   "execution_count": null,
   "metadata": {},
   "outputs": [],
   "source": [
    "#Get population, median age, per capita income, of each zip code and add to data frame with healthcare facility info (Lisa)\n",
    "#from https://data.colorado.gov/ (Lisa)\n",
    "\n",
    "url_pop = 'https://data.colorado.gov/resource/ucnv-vw74.json?'\n",
    "for index, row in h_counts.iterrows():\n",
    "    #create the parameters, full url for the API call\n",
    "    params_pop = {'zip_code': h_counts.loc[index, \"Zip Code\"],\n",
    "              }\n",
    "    response_pop = requests.get(url_pop, params=params_pop)\n",
    "    response_pop = response_pop.json()\n",
    "\n",
    "    # Store the zip's population, per capita income and median age in the denver_df DataFrame\n",
    "    try:\n",
    "        h_counts.loc[index, \"Population\"] = response_pop[0][\"pop\"]\n",
    "        \n",
    "    except (KeyError, IndexError):\n",
    "        h_counts.loc[index, \"Population\"] = np.nan\n",
    "    try:\n",
    "        h_counts.loc[index, \"Per Capita Income\"] = response_pop[0]['per_cap_in']\n",
    "    except (KeyError, IndexError):\n",
    "        h_counts.loc[index, \"Per Capita Income\"] = np.nan\n",
    "    try: \n",
    "        h_counts.loc[index, 'Median Age'] = response_pop[0]['med_age']\n",
    "    except (KeyError, IndexError):\n",
    "        h_counts.loc[index, \"Median Age\"] = np.nan\n",
    "h_counts"
   ]
  },
  {
   "cell_type": "code",
   "execution_count": 9,
   "metadata": {},
   "outputs": [],
   "source": [
    "#Clear empty values and save combined data set to a csv file(Lisa)\n",
    "h_counts = h_counts.dropna()\n",
    "h_counts.head()\n",
    "h_counts.to_csv('resources/combined_data.csv', index= False)"
   ]
  },
  {
   "cell_type": "code",
   "execution_count": null,
   "metadata": {},
   "outputs": [],
   "source": [
    "# Lisa - work is in separate question_1_vis file\n",
    "# Question 1: are healthcare facilities more dense where the population is dense? In other words: \n",
    "# Is there a correlation between pop of zip code and  number of facilities in the zip code?\n",
    "# plot #of healthcare facilities per zip code and population per zip code (double bars with zip as x axis)\n",
    "# scatter plot and linear regression of facility count vs population\n",
    "# maps"
   ]
  },
  {
   "cell_type": "code",
   "execution_count": null,
   "metadata": {},
   "outputs": [],
   "source": [
    "# Liz - work is in question_2_vis file\n",
    "\n",
    "# Question 2: Is there a correlation of per capita income with # of healthcare facilities by zip code in Denver?\n",
    "#plot #of healthcare facilities per zip code against per cap income\n",
    "#scatter plot and lin reg of  zip code against per cap income "
   ]
  },
  {
   "cell_type": "code",
   "execution_count": null,
   "metadata": {},
   "outputs": [],
   "source": [
    "# Kelsy - work is in question_3_vis file\n",
    "# Question 3: Is there a correlation of median age with # of healthcare facilities by zip code in Denver?\n",
    "# scatter plot and lin reg of number of faciliies against median age"
   ]
  },
  {
   "cell_type": "code",
   "execution_count": null,
   "metadata": {},
   "outputs": [],
   "source": [
    "# Out of scope for Project 1. Determined would be future work. Kelsey did preliminary work in \"wheelchair_questions\" folder\n",
    "# Quesion 4: What percentage of facilities are wheelchair accessible and what percentage by subcategory?\n",
    "# Vis 1: count # and find % of facilities with wheelchair access\n",
    "# Vis 2: If not very close to 100%, plot types of facility against wheelchair access(bar)\n",
    "# Vis 3: map with color of facility dot by wheelchair access"
   ]
  },
  {
   "cell_type": "code",
   "execution_count": null,
   "metadata": {},
   "outputs": [],
   "source": [
    "# Presentation\n",
    "# Written analysis (Lisa first draft)\n",
    "# Slide preparation for presentation (Liz first draft)\n",
    "# Final presentation 15 minutes - 10 minute overview, 5 minutes Q&A\n",
    "# Update README.md file (Liz)"
   ]
  }
 ],
 "metadata": {
  "kernelspec": {
   "display_name": "dev",
   "language": "python",
   "name": "python3"
  },
  "language_info": {
   "codemirror_mode": {
    "name": "ipython",
    "version": 3
   },
   "file_extension": ".py",
   "mimetype": "text/x-python",
   "name": "python",
   "nbconvert_exporter": "python",
   "pygments_lexer": "ipython3",
   "version": "3.11.7"
  }
 },
 "nbformat": 4,
 "nbformat_minor": 2
}
