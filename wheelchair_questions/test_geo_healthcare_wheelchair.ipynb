{
 "cells": [
  {
   "cell_type": "code",
   "execution_count": 1,
   "metadata": {},
   "outputs": [],
   "source": [
    "# Dependencies\n",
    "import pandas as pd\n",
    "import numpy as np\n",
    "import requests\n",
    "import json\n",
    "\n",
    "# Other imports\n",
    "from api_key import geoapify_key"
   ]
  },
  {
   "cell_type": "code",
   "execution_count": 2,
   "metadata": {},
   "outputs": [],
   "source": [
    "# Set the geographical coordinates for Denver, CO\n",
    "latitude = 39.742043\n",
    "longitude = -104.991531\n",
    "\n",
    "# Set the search parameters to capture desired zipcodes\n",
    "radius = 6500\n",
    "limit = 20\n",
    "filters = f\"circle:{longitude},{latitude},{radius}\"\n",
    "conditions = \"wheelchair\"\n",
    "\n",
    "# set up a parameters dictionary\n",
    "params = {\n",
    "    \"categories\": \"healthcare\",\n",
    "    \"filter\":filters,\n",
    "    \"conditions\":conditions,\n",
    "    \"limit\": limit,\n",
    "    \"apiKey\":geoapify_key\n",
    "}\n",
    "\n",
    "# Set base URL\n",
    "base_url = \"https://api.geoapify.com/v2/places\""
   ]
  },
  {
   "cell_type": "code",
   "execution_count": 3,
   "metadata": {},
   "outputs": [
    {
     "name": "stdout",
     "output_type": "stream",
     "text": [
      "Retrieving data...\n"
     ]
    }
   ],
   "source": [
    "# Empty list for data\n",
    "health_facilities = []\n",
    "\n",
    "# Retrieve the data with API request\n",
    "print(\"Retrieving data...\")\n",
    "response = requests.get(base_url, params=params).json()\n",
    "\n",
    "\n",
    "for feature in response[\"features\"]:\n",
    "    # Parse out facility name, categories, zipcode, lat, lng:\n",
    "    fac_name = feature[\"properties\"][\"address_line1\"]\n",
    "    fac_type = feature[\"properties\"][\"categories\"]\n",
    "    fac_zip = feature[\"properties\"][\"postcode\"]\n",
    "    fac_lat = feature[\"properties\"][\"lat\"]\n",
    "    fac_lng = feature[\"properties\"][\"lon\"]\n",
    "\n",
    "    # Append the data into health_facilities list\n",
    "    health_facilities.append({\"Facility Name\": fac_name,\n",
    "                              \"Categories\": fac_type,\n",
    "                              \"Zipcode\": fac_zip,\n",
    "                              \"Lat\": fac_lat,\n",
    "                              \"Lng\": fac_lng})"
   ]
  },
  {
   "cell_type": "code",
   "execution_count": 4,
   "metadata": {},
   "outputs": [
    {
     "data": {
      "text/html": [
       "<div>\n",
       "<style scoped>\n",
       "    .dataframe tbody tr th:only-of-type {\n",
       "        vertical-align: middle;\n",
       "    }\n",
       "\n",
       "    .dataframe tbody tr th {\n",
       "        vertical-align: top;\n",
       "    }\n",
       "\n",
       "    .dataframe thead th {\n",
       "        text-align: right;\n",
       "    }\n",
       "</style>\n",
       "<table border=\"1\" class=\"dataframe\">\n",
       "  <thead>\n",
       "    <tr style=\"text-align: right;\">\n",
       "      <th></th>\n",
       "      <th>Facility</th>\n",
       "      <th>Categories</th>\n",
       "      <th>Zipcode</th>\n",
       "      <th>Lat</th>\n",
       "      <th>Lng</th>\n",
       "    </tr>\n",
       "  </thead>\n",
       "  <tbody>\n",
       "    <tr>\n",
       "      <th>0</th>\n",
       "      <td>National Jewish Health</td>\n",
       "      <td>[healthcare, healthcare.hospital, wheelchair, ...</td>\n",
       "      <td>80206</td>\n",
       "      <td>39.739210</td>\n",
       "      <td>-104.942378</td>\n",
       "    </tr>\n",
       "    <tr>\n",
       "      <th>1</th>\n",
       "      <td>Dental Elements</td>\n",
       "      <td>[healthcare, healthcare.dentist, wheelchair, w...</td>\n",
       "      <td>80202</td>\n",
       "      <td>39.751468</td>\n",
       "      <td>-105.002504</td>\n",
       "    </tr>\n",
       "    <tr>\n",
       "      <th>2</th>\n",
       "      <td>Walgreens</td>\n",
       "      <td>[commercial.health_and_beauty, commercial.heal...</td>\n",
       "      <td>80202</td>\n",
       "      <td>39.746090</td>\n",
       "      <td>-104.993057</td>\n",
       "    </tr>\n",
       "    <tr>\n",
       "      <th>3</th>\n",
       "      <td>King Soopers Pharmacy</td>\n",
       "      <td>[commercial.health_and_beauty, commercial.heal...</td>\n",
       "      <td>80218</td>\n",
       "      <td>39.730963</td>\n",
       "      <td>-104.973552</td>\n",
       "    </tr>\n",
       "    <tr>\n",
       "      <th>4</th>\n",
       "      <td>Icon Dental Denver</td>\n",
       "      <td>[healthcare, healthcare.dentist, wheelchair, w...</td>\n",
       "      <td>80202</td>\n",
       "      <td>39.748486</td>\n",
       "      <td>-105.000370</td>\n",
       "    </tr>\n",
       "  </tbody>\n",
       "</table>\n",
       "</div>"
      ],
      "text/plain": [
       "                 Facility                                         Categories  \\\n",
       "0  National Jewish Health  [healthcare, healthcare.hospital, wheelchair, ...   \n",
       "1         Dental Elements  [healthcare, healthcare.dentist, wheelchair, w...   \n",
       "2               Walgreens  [commercial.health_and_beauty, commercial.heal...   \n",
       "3   King Soopers Pharmacy  [commercial.health_and_beauty, commercial.heal...   \n",
       "4      Icon Dental Denver  [healthcare, healthcare.dentist, wheelchair, w...   \n",
       "\n",
       "  Zipcode        Lat         Lng  \n",
       "0   80206  39.739210 -104.942378  \n",
       "1   80202  39.751468 -105.002504  \n",
       "2   80202  39.746090 -104.993057  \n",
       "3   80218  39.730963 -104.973552  \n",
       "4   80202  39.748486 -105.000370  "
      ]
     },
     "execution_count": 4,
     "metadata": {},
     "output_type": "execute_result"
    }
   ],
   "source": [
    "health_facilities_df = pd.DataFrame(health_facilities)\n",
    "\n",
    "health_facilities_df"
   ]
  },
  {
   "cell_type": "code",
   "execution_count": null,
   "metadata": {},
   "outputs": [],
   "source": [
    "# get location and count of facilities"
   ]
  }
 ],
 "metadata": {
  "kernelspec": {
   "display_name": "Python 3",
   "language": "python",
   "name": "python3"
  },
  "language_info": {
   "codemirror_mode": {
    "name": "ipython",
    "version": 3
   },
   "file_extension": ".py",
   "mimetype": "text/x-python",
   "name": "python",
   "nbconvert_exporter": "python",
   "pygments_lexer": "ipython3",
   "version": "3.11.7"
  }
 },
 "nbformat": 4,
 "nbformat_minor": 2
}
